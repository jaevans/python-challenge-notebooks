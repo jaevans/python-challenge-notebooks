{
 "cells": [
  {
   "cell_type": "markdown",
   "metadata": {},
   "source": [
    "# SemVer\n",
    "\n",
    "[Semantic Versioning](https://semver.org/) (SemVer) is a method of versioning software (or other things that might need versioning) that is both ordered and provides information in the version number itself.\n",
    "\n",
    "## Quick Introduction to SemVer\n",
    "\n",
    "A SemVer is made up of a string of the form X.Y.Z where X, Y, and Z are positive integers. New versions are created by incrementing one of the components. When a component in incremented, the later digits revert to 0. Any of the components may be 0, including the X. \n",
    "\n",
    "### Examples\n",
    "\n",
    "* 0.1.0 -> 0.1.1 -> 0.1.2\n",
    "* 1.0.0 -> 1.0.1 -> 1.1.0\n",
    "* 2.9.0 -> 2.10.0 -> 2.10.1 -> 3.0.0\n",
    "\n",
    "## Challenge\n",
    "\n",
    "Given a list of version strings `l`, return the list in sorted order. Unfortunately, the list of versions aren't *completly* SemVer. Sometimes when the last digit(s) were 0, they got dropped, leading to lists like `[\"1.0.0\", \"0.2\", \"2\", \"1.1\"]`. This list should be sorted into `[\"0.2\", \"1.0.0\",\"1.1\", \"2\"]`. **DO NOT** \"fix\" the numbers to be SymVer. Versions will be given as a list of strings, and the sorted list should be returned as a list of strings.\n",
    "\n",
    "If two or more versions are equivalent but one version contains more numbers than the others, then these versions must be sorted ascending based on how many numbers they have, e.g `[\"1\", \"1.0\", \"1.0.0\"]`. The number of elements in the list `l` will be at least 1 and will not exceed 100.\n",
    "\n",
    "## Instructions\n",
    "\n",
    "Write your code inside the `answer()` function in the cell below. When you are done, run all cells. Your results and the time taken to run will appear in the 3<sup>rd</sup> code cell, the one that starts with `%%time`.\n",
    "\n",
    "## Test cases\n",
    "\n",
    "* Test Case 1:\n",
    "\n",
    "```\n",
    "Input:\n",
    "l = [\"1.1.2\", \"1.0\", \"1.3.3\", \"1.0.12\", \"1.0.2\"]\n",
    "\n",
    "Output:\n",
    "[\"1.0\", \"1.0.2\", \"1.0.12\", \"1.1.2\", \"1.3.3\"]\n",
    "```\n",
    "\n",
    "* Test Case 2:\n",
    "\n",
    "```\n",
    "Input:\n",
    "l = [\"1.11\", \"2.0.0\", \"1.2\", \"2\", \"0.1\", \"1.2.1\", \"1.1.1\", \"2.0\"]\n",
    "\n",
    "Output:\n",
    "[\"0.1\", \"1.1.1\", \"1.2\", \"1.2.1\", \"1.11\", \"2\", \"2.0\", \"2.0.0\"]\n",
    "```"
   ]
  },
  {
   "cell_type": "code",
   "execution_count": 1,
   "metadata": {},
   "outputs": [],
   "source": [
    "def answer(l):\n",
    "    return []"
   ]
  },
  {
   "cell_type": "code",
   "execution_count": 2,
   "metadata": {},
   "outputs": [],
   "source": [
    "testcases = [\n",
    "    [\"1.1.2\", \"1.0\", \"1.3.3\", \"1.0.12\", \"1.0.2\"],\n",
    "    [\"1.11\", \"2.0.0\", \"1.2\", \"2\", \"0.1\", \"1.2.1\", \"1.1.1\", \"2.0\"],\n",
    "    [\"2017.02\", \"2019.03.1\", \"2017.02.602082\", \"2020.1.0\", \"999.9999.9999\", \"0\"],\n",
    "    [\"2.1.2\", \"3.2.0\", \"1.5\", \"3.666666666\", \"2019.02.1\", \"42.0.0\"],\n",
    "    [\"2.0.0\"],\n",
    "    [\"1.1.2\", \"1.0\", \"1.3.3\", \"1.0.12\", \"1.0.2\", \"1.11\", \"2.0.0\", \"1.2\", \"2\", \"0.1\", \"1.2.1\", \"1.1.1\", \"2.0\", \"2017.02\", \"2019.03.1\", \"2017.02.602082\", \"2020.1.0\", \"999.9999.9999\", \"0\", \"2.1.2\", \"3.2.0\", \"1.5\", \"3.666666666\", \"2019.02.1\", \"42.0.0\", \"2.0.0\"],\n",
    "    [\"25.442.14487\", \"57\", \"74.482.27692\", \"67.52.66806\", \"43\", \"100.768.38941\", \"14\", \"7.90.29891\", \"58.623.14924\", \"77.812.36774\", \"70.783.66629\", \"57.609\", \"97.297.74560\", \"87.856.64699\", \"56\", \"24\", \"73.252\", \"19.465\", \"12\", \"92.778.94401\", \"67\", \"14\", \"23.19.70657\", \"42.804\", \"13.526\", \"12\", \"11.598\", \"38\", \"61\", \"31.287\", \"89.449\", \"17.931\", \"92\", \"54.853\", \"74\", \"35.441\", \"52\", \"11.545.43734\", \"77.59\", \"55.725\", \"51.504\", \"8.84.27045\", \"73.741\", \"62.219\", \"93\", \"32.689.18544\", \"73.73.32950\", \"77.145.37289\", \"82\", \"50.52\", \"98.829\", \"11.411\", \"90\", \"96.655.40361\", \"73.292\", \"89.940.86647\", \"57.634.39429\", \"51.638\", \"40.633\", \"53.586.32294\", \"52\", \"1\", \"22\", \"99.655\", \"58\", \"52\", \"38.100.91297\", \"27.147\", \"63.791\", \"27.841.3968\", \"74.351.13278\", \"81.164.93312\", \"86.52.87448\", \"91.701.79427\", \"61\", \"90.423.77\", \"73\", \"20\", \"34.269.5435\", \"62.447.81978\", \"39\", \"45.754\", \"33.252\", \"60.109\", \"77\", \"69.717\", \"22.566.54413\", \"27.366.34706\", \"22.332\", \"8.659\", \"50.263\", \"24.169.6065\", \"45.676.11420\", \"44.170.50393\", \"55.113\", \"26.36\", \"33.27.88120\", \"17.272\", \"18\", \"47.333\"],\n",
    "]"
   ]
  },
  {
   "cell_type": "code",
   "execution_count": null,
   "metadata": {},
   "outputs": [],
   "source": [
    "%%time\n",
    "for t in testcases:\n",
    "    print(answer(t))"
   ]
  }
 ],
 "metadata": {
  "kernelspec": {
   "display_name": "Python 3",
   "language": "python",
   "name": "python3"
  },
  "language_info": {
   "codemirror_mode": {
    "name": "ipython",
    "version": 3
   },
   "file_extension": ".py",
   "mimetype": "text/x-python",
   "name": "python",
   "nbconvert_exporter": "python",
   "pygments_lexer": "ipython3",
   "version": "3.7.4"
  }
 },
 "nbformat": 4,
 "nbformat_minor": 2
}
